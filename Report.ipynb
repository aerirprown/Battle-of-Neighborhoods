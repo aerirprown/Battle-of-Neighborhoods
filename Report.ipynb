{
 "cells": [
  {
   "cell_type": "markdown",
   "metadata": {},
   "source": [
    "# A Recommender System for Organic Produce Distribution Warehouse"
   ]
  },
  {
   "cell_type": "markdown",
   "metadata": {},
   "source": [
    "#### Problem Description"
   ]
  },
  {
   "cell_type": "markdown",
   "metadata": {},
   "source": [
    "An organic produce distributor would like to find the best location for a distribution center in a specific borough of Toronto. The distributor provides produce to restaurants, cafes, bakeries, etc.\n",
    "For example, if the distribution center is close to many restaurants, then the produce can be delivered to the restaurants in a timely manner and with minimal transportation costs.\n",
    "The distributor has selected Scarborough from all the boroughs in Toronto and would like to find which neighborhood would the best choice. The purpose of this project will be to find the neighborhood with the highest density of restaraunts that could be potential customers."
   ]
  },
  {
   "cell_type": "markdown",
   "metadata": {},
   "source": [
    "#### Necessary Data"
   ]
  },
  {
   "cell_type": "markdown",
   "metadata": {},
   "source": [
    "Data related to venues in each neighborhood within Scarborough will be needed such as what goods or services are provided along with location. The Foursquare API can provide the needed locational and categorical data. Categorical data will include not just type of cuisine but also whether the restaraunt is considered popular by Foursquare users along with pricing. The Foursquare API can also provide the distance from each venue to a selected point(latitude/longitude).\n"
   ]
  },
  {
   "cell_type": "code",
   "execution_count": null,
   "metadata": {},
   "outputs": [],
   "source": []
  }
 ],
 "metadata": {
  "kernelspec": {
   "display_name": "Python 3",
   "language": "python",
   "name": "python3"
  },
  "language_info": {
   "codemirror_mode": {
    "name": "ipython",
    "version": 3
   },
   "file_extension": ".py",
   "mimetype": "text/x-python",
   "name": "python",
   "nbconvert_exporter": "python",
   "pygments_lexer": "ipython3",
   "version": "3.7.3"
  }
 },
 "nbformat": 4,
 "nbformat_minor": 2
}
