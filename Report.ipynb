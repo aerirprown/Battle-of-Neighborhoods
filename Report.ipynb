{
 "cells": [
  {
   "cell_type": "markdown",
   "metadata": {},
   "source": [
    "# A Recommender System for Organic Produce Distribution Warehouse"
   ]
  },
  {
   "cell_type": "markdown",
   "metadata": {},
   "source": [
    "## Introduction"
   ]
  },
  {
   "cell_type": "markdown",
   "metadata": {},
   "source": [
    "#### 1. Problem Description"
   ]
  },
  {
   "cell_type": "markdown",
   "metadata": {},
   "source": [
    "An organic produce distributor would like to find the best location for a distribution center in a specific borough of Toronto. The distributor provides produce to restaurants, cafes, bakeries, etc.\n",
    "\n",
    "For example, if the distribution center is close to many restaurants, then the produce can be delivered to the restaurants in a timely manner and with minimal transportation costs.\n",
    "\n",
    "\n",
    "The distributor has selected Scarborough from all the boroughs in Toronto and would like to find which neighborhood would the best choice. The purpose of this project will be to find the neighborhood with the highest density of restaraunts that could be potential customers."
   ]
  },
  {
   "cell_type": "markdown",
   "metadata": {},
   "source": [
    "#### 2. Necessary Data"
   ]
  },
  {
   "cell_type": "markdown",
   "metadata": {},
   "source": [
    "The contractor has already decided on the Scarborough part of Toronto. The Postal Codes that are within this borough will also be supplied fo us. We will need a list of the neighborhoods within Scarborough and their corresponding postal codes.\n",
    "\n",
    "Data related to venues in each neighborhood within Scarborough will be needed such as what goods or services are provided along with location. The Foursquare API can provide the needed locational and categorical data. Categorical data will include not just type of cuisine but also whether the restaraunt is considered popular by Foursquare users along with pricing. The Foursquare API can also provide the distance from each venue to a selected point(latitude/longitude).\n"
   ]
  },
  {
   "cell_type": "markdown",
   "metadata": {},
   "source": [
    "## Methodology"
   ]
  },
  {
   "cell_type": "markdown",
   "metadata": {},
   "source": [
    "#### 1. Indentify Scarborough Neighborhoods"
   ]
  },
  {
   "cell_type": "markdown",
   "metadata": {},
   "source": [
    "Postal codes within Scarborough, Toronto will need to be obtained in order to find the best neighborhood. The postal codes by neighborhood can be found at the following link: https://en.wikipedia.org/wiki/List_of_postal_codes_of_Canada:_M \n",
    "\n",
    "The table containing the data will be scraped and placed into a dataframe. Images and maps generated from this data will be included in the accompanying presentation. "
   ]
  },
  {
   "cell_type": "markdown",
   "metadata": {},
   "source": [
    "#### 2. Retrieving Location And Venue Data From Foursquare"
   ]
  },
  {
   "cell_type": "markdown",
   "metadata": {},
   "source": [
    "Using the list of neighborhoods, we can make a request to the Foursquare API to gather information about venues in each neighborhood. The center of the neighborhood was used in the request with a radius of 1000m as the search area. \n",
    "\n",
    "The Foursquare API will return a list of all venues(restaraunts, parks, retail stores, etc) that are within 1000m of the center of the neighborhood. Note this is not the walking distance, but the distance from the center of the neighborhood to the latitude/longitude point of the venue."
   ]
  },
  {
   "cell_type": "markdown",
   "metadata": {},
   "source": [
    "#### 3. Processing Venue Data"
   ]
  },
  {
   "cell_type": "markdown",
   "metadata": {},
   "source": [
    "After the data for each neighborhood has been received from the Foursquare API it will be necessary to perform pre-processing to prepare the data for the algorithm. The most important feature is the category of the venue. Since the venue dataset includes establishments that would not be likely customer of the Organic Produce Distributor such as parks, retail stores, etc. \n",
    "\n",
    "The column that contains the venue's category will be one-hot encoded. This will result in each category being turned into a column with a value of 1 in that column representing that the venue is of that category and a 0 meaning it is not. The data was subsetted to remove irrelevant venues.\n",
    "\n",
    "A total restaraunts column will be created using the result of the one-hot encoded columns to show an aggregate number of restaraunts in each neighborhood. The data will then be ready for statistical analysis and machine learnign algorithms.\n",
    "\n",
    "Something to note, due to a lack of details in the data set, all restaraunts were treated as being equally likely to purchase organic produce."
   ]
  },
  {
   "cell_type": "markdown",
   "metadata": {},
   "source": [
    "#### 4. Modeling Using K-Means"
   ]
  },
  {
   "cell_type": "markdown",
   "metadata": {},
   "source": [
    "The restaraunt venues were clustered using the k-means algorithm. The number of clusters was limited to 3 to cover include multiple neighborhoods in one cluster due to no individual neighborhood having enough restaraunt venues to justify a distribution center itself.\n",
    "\n",
    "After each venue has been assigned to a neighborhood cluster a new column will be added to the dataframe representing the cluster for each neighborhood."
   ]
  },
  {
   "cell_type": "markdown",
   "metadata": {},
   "source": [
    "## Results Discussion And Conclusion"
   ]
  },
  {
   "cell_type": "markdown",
   "metadata": {},
   "source": [
    "In the Foursquare data, some restaraunts are consider \"joints\" and some are labeled \"restaraunts\". For the purpose of analysis any venue labeled a joint or restaraunt was considered a restaraunt. The neighborhood cluster with the highest number of restaraunts will be considered the best recommendation for the organic produce distributor to open a distribution center. "
   ]
  },
  {
   "cell_type": "markdown",
   "metadata": {},
   "source": [
    "Cluster 1, consisting of the neighborhoods Maryvale and Wexford, has the highest density of restaraunts and would be the best location for a organic produce distribution center in Scarborough.\n",
    "\n",
    "#### Final Recommendation\n",
    "Postal Code: M1R\n",
    "\n",
    "Neighborhoods: Maryvale and Wexford"
   ]
  }
 ],
 "metadata": {
  "kernelspec": {
   "display_name": "Python 3",
   "language": "python",
   "name": "python3"
  },
  "language_info": {
   "codemirror_mode": {
    "name": "ipython",
    "version": 3
   },
   "file_extension": ".py",
   "mimetype": "text/x-python",
   "name": "python",
   "nbconvert_exporter": "python",
   "pygments_lexer": "ipython3",
   "version": "3.7.3"
  }
 },
 "nbformat": 4,
 "nbformat_minor": 2
}
